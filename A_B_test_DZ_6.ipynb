{
  "metadata": {
    "language_info": {
      "codemirror_mode": {
        "name": "python",
        "version": 3
      },
      "file_extension": ".py",
      "mimetype": "text/x-python",
      "name": "python",
      "nbconvert_exporter": "python",
      "pygments_lexer": "ipython3",
      "version": "3.8"
    },
    "kernelspec": {
      "name": "python",
      "display_name": "Python (Pyodide)",
      "language": "python"
    },
    "colab": {
      "provenance": [],
      "include_colab_link": true
    }
  },
  "nbformat_minor": 0,
  "nbformat": 4,
  "cells": [
    {
      "cell_type": "markdown",
      "metadata": {
        "id": "view-in-github",
        "colab_type": "text"
      },
      "source": [
        "<a href=\"https://colab.research.google.com/github/EvgenyEsin/A-B_test/blob/main/A_B_test_DZ_6.ipynb\" target=\"_parent\"><img src=\"https://colab.research.google.com/assets/colab-badge.svg\" alt=\"Open In Colab\"/></a>"
      ]
    },
    {
      "cell_type": "markdown",
      "source": [
        "Задача 1. Продакт на главной mail.ru решил протестировать в рекомендательной ленте контента вместо карточек со статьями видеоплеер с короткими видео. Нынешний таймспент на юзера в день в среднем равен 25 минут, а стандартная ошибка (SD) равна 156. Мы предполагаем, что в новой версии таймспент на юзера в день изменится на 10%. Средний трафик 20000 человек в день. Посчитайте сколько дней необходимо держать эксперимент при alpha = 5% и beta = 20% ."
      ],
      "metadata": {
        "id": "Hbd5GczzuOFY"
      }
    },
    {
      "cell_type": "code",
      "source": [
        "import numpy as np\n",
        "import math\n",
        "import scipy.stats as stats"
      ],
      "metadata": {
        "trusted": true,
        "id": "W9zMwJlwuOFe"
      },
      "execution_count": 11,
      "outputs": []
    },
    {
      "cell_type": "code",
      "source": [
        "# по условию:\n",
        "sd = 156  # стандартная ошибка\n",
        "prop_diff = 0.1  # зменение таймспента\n",
        "n = 20000  # средний трафик в день\n",
        "a = 0.05  # уровень значимости\n",
        "beta = 0.2  # вероятность ошибки второго рода"
      ],
      "metadata": {
        "trusted": true,
        "id": "65YFKfoNuOFi"
      },
      "execution_count": 12,
      "outputs": []
    },
    {
      "cell_type": "markdown",
      "source": [
        "Считаем необходимые статистические значения:"
      ],
      "metadata": {
        "id": "sFWHRhB7uOFi"
      }
    },
    {
      "cell_type": "code",
      "source": [
        "se = sd / np.sqrt(n)  # стандартная ошибка среднего\n",
        "m = se * norm.ppf(1 - a/2)  # граница для доверительного интервала\n",
        "delta = prop_diff * n  # абсолютное изменение таймспента"
      ],
      "metadata": {
        "trusted": true,
        "id": "Mi41tRRAuOFi"
      },
      "execution_count": 13,
      "outputs": []
    },
    {
      "cell_type": "markdown",
      "source": [
        "Определяем критические значения для тестов:"
      ],
      "metadata": {
        "id": "MrCacR6auOFj"
      }
    },
    {
      "cell_type": "code",
      "source": [
        "z_alpha = norm.ppf(1 - a)\n",
        "z_beta = norm.ppf(1 - beta)\n",
        "print(f'z_alpha = {z_alpha}, z_beta = {z_beta}')"
      ],
      "metadata": {
        "trusted": true,
        "colab": {
          "base_uri": "https://localhost:8080/"
        },
        "id": "lgU5-QwZuOFj",
        "outputId": "07cf3ad4-0311-4bfa-b005-69212a39a7d8"
      },
      "execution_count": 14,
      "outputs": [
        {
          "output_type": "stream",
          "name": "stdout",
          "text": [
            "z_alpha = 1.6448536269514722, z_beta = 0.8416212335729143\n"
          ]
        }
      ]
    },
    {
      "cell_type": "markdown",
      "source": [
        "Определяем необходимое время эксперимента:"
      ],
      "metadata": {
        "id": "EyvHKSTjuOFk"
      }
    },
    {
      "cell_type": "code",
      "source": [
        "n_1 = (z_alpha*m + z_beta*sd/delta)**2 # находим интервал\n",
        "n_2 = (z_alpha*m - z_beta*sd/delta)**2\n",
        "n_round = np.ceil(max(n_1, n_2))\n",
        "days = np.ceil(n_round/n)  # количество дней\n",
        "print(f\"Необходимо собрать данные в течении {int(days)} дней\")"
      ],
      "metadata": {
        "trusted": true,
        "colab": {
          "base_uri": "https://localhost:8080/"
        },
        "id": "nycifVyhuOFk",
        "outputId": "d3222b71-be33-49ce-d632-6557b45fc5d0"
      },
      "execution_count": 15,
      "outputs": [
        {
          "output_type": "stream",
          "name": "stdout",
          "text": [
            "Необходимо собрать данные в течении 1 дней\n"
          ]
        }
      ]
    },
    {
      "cell_type": "markdown",
      "source": [
        "Задача 2. Наша продуктовая команда в ecommerce магазине планирует запустить тест, направленный на ускорение загрузки сайта. Одна из основных метрик bounce rate в GA = 40%. Мы предполагаем, что при оптимизации сайта она изменится минимум на 20%.Средний трафик 4000 человек в день. Посчитайте сколько нам нужно дней держать эксперимент при alpha = 5% и beta = 20%"
      ],
      "metadata": {
        "id": "b9x5YR1txNpz"
      }
    },
    {
      "cell_type": "code",
      "source": [
        "# напишем функцию для расчета необходимого размера выборки:\n",
        "def sample_size(mean1, mean2, alpha, beta, power):\n",
        "    z_alpha = stats.norm.ppf(1 - alpha / 2) # критический уровень значимости при теста\n",
        "    z_beta = stats.norm.ppf(power) # рассчетное значение Z для мощности теста\n",
        "    std1 = math.sqrt(mean1 * (1 - mean1)) # стандартная ошибка текущего среднего\n",
        "    std2 = std1 * math.sqrt((mean1 - mean2) ** 2 / (mean1 - mean2) ** 2) # стандартная ошибка ожидаемого среднего\n",
        "    return ((std1 * z_alpha + std2 * z_beta) / (mean1 - mean2)) ** 2\n",
        "\n",
        "# mean1 - текущее значение метрики\n",
        "# mean2 - ожидаемое изменение метрики после оптимизации\n",
        "# alpha - уровень значимости теста\n",
        "# beta - мощность теста"
      ],
      "metadata": {
        "id": "PHglMXkAxPyl"
      },
      "execution_count": 27,
      "outputs": []
    },
    {
      "cell_type": "code",
      "source": [
        "# Теперь вызовем функцию c округлением до целого числа и получим результат:\n",
        "round(sample_size(mean1=0.4, mean2=-0.2, alpha=0.05, beta=0.2, power=0.8))"
      ],
      "metadata": {
        "colab": {
          "base_uri": "https://localhost:8080/"
        },
        "id": "MPQ2_5R9zTye",
        "outputId": "fce73119-748c-4ec8-fb48-a6a41fce86de"
      },
      "execution_count": 28,
      "outputs": [
        {
          "output_type": "execute_result",
          "data": {
            "text/plain": [
              "5"
            ]
          },
          "metadata": {},
          "execution_count": 28
        }
      ]
    }
  ]
}